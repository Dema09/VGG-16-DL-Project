{
  "nbformat": 4,
  "nbformat_minor": 0,
  "metadata": {
    "colab": {
      "provenance": [],
      "machine_shape": "hm",
      "gpuType": "A100"
    },
    "kernelspec": {
      "name": "python3",
      "display_name": "Python 3"
    },
    "language_info": {
      "name": "python"
    },
    "accelerator": "GPU"
  },
  "cells": [
    {
      "cell_type": "markdown",
      "source": [
        "# Image Classification from Scratch\n",
        "\n",
        "This book contains image classification from scratch leveraging the superiority of Convolutional Neural Network (CNN).\n",
        "\n",
        "The dataset is based on ['Vegetable Image Dataset'](https://www.kaggle.com/datasets/misrakahmed/vegetable-image-dataset).\n",
        "\n",
        "Ahmed, M. Israk & Mamun, Shahriyar & Asif, Asif. (2021). DCNN-Based Vegetable Image Classification Using Transfer Learning: A Comparative Study. 235-243. 10.1109/ICCCSP52374.2021.9465499."
      ],
      "metadata": {
        "id": "LRhEbaQGUzdT"
      }
    },
    {
      "cell_type": "code",
      "source": [
        "!pip install pillow tensorflow numpy"
      ],
      "metadata": {
        "colab": {
          "base_uri": "https://localhost:8080/"
        },
        "id": "wzWO0TdzVFHY",
        "outputId": "d67050b8-450e-4ec4-be9e-dc35576102d3"
      },
      "execution_count": null,
      "outputs": [
        {
          "output_type": "stream",
          "name": "stdout",
          "text": [
            "Requirement already satisfied: pillow in /usr/local/lib/python3.10/dist-packages (9.4.0)\n",
            "Requirement already satisfied: tensorflow in /usr/local/lib/python3.10/dist-packages (2.15.0)\n",
            "Requirement already satisfied: numpy in /usr/local/lib/python3.10/dist-packages (1.25.2)\n",
            "Requirement already satisfied: absl-py>=1.0.0 in /usr/local/lib/python3.10/dist-packages (from tensorflow) (1.4.0)\n",
            "Requirement already satisfied: astunparse>=1.6.0 in /usr/local/lib/python3.10/dist-packages (from tensorflow) (1.6.3)\n",
            "Requirement already satisfied: flatbuffers>=23.5.26 in /usr/local/lib/python3.10/dist-packages (from tensorflow) (24.3.7)\n",
            "Requirement already satisfied: gast!=0.5.0,!=0.5.1,!=0.5.2,>=0.2.1 in /usr/local/lib/python3.10/dist-packages (from tensorflow) (0.5.4)\n",
            "Requirement already satisfied: google-pasta>=0.1.1 in /usr/local/lib/python3.10/dist-packages (from tensorflow) (0.2.0)\n",
            "Requirement already satisfied: h5py>=2.9.0 in /usr/local/lib/python3.10/dist-packages (from tensorflow) (3.9.0)\n",
            "Requirement already satisfied: libclang>=13.0.0 in /usr/local/lib/python3.10/dist-packages (from tensorflow) (16.0.6)\n",
            "Requirement already satisfied: ml-dtypes~=0.2.0 in /usr/local/lib/python3.10/dist-packages (from tensorflow) (0.2.0)\n",
            "Requirement already satisfied: opt-einsum>=2.3.2 in /usr/local/lib/python3.10/dist-packages (from tensorflow) (3.3.0)\n",
            "Requirement already satisfied: packaging in /usr/local/lib/python3.10/dist-packages (from tensorflow) (24.0)\n",
            "Requirement already satisfied: protobuf!=4.21.0,!=4.21.1,!=4.21.2,!=4.21.3,!=4.21.4,!=4.21.5,<5.0.0dev,>=3.20.3 in /usr/local/lib/python3.10/dist-packages (from tensorflow) (3.20.3)\n",
            "Requirement already satisfied: setuptools in /usr/local/lib/python3.10/dist-packages (from tensorflow) (67.7.2)\n",
            "Requirement already satisfied: six>=1.12.0 in /usr/local/lib/python3.10/dist-packages (from tensorflow) (1.16.0)\n",
            "Requirement already satisfied: termcolor>=1.1.0 in /usr/local/lib/python3.10/dist-packages (from tensorflow) (2.4.0)\n",
            "Requirement already satisfied: typing-extensions>=3.6.6 in /usr/local/lib/python3.10/dist-packages (from tensorflow) (4.10.0)\n",
            "Requirement already satisfied: wrapt<1.15,>=1.11.0 in /usr/local/lib/python3.10/dist-packages (from tensorflow) (1.14.1)\n",
            "Requirement already satisfied: tensorflow-io-gcs-filesystem>=0.23.1 in /usr/local/lib/python3.10/dist-packages (from tensorflow) (0.36.0)\n",
            "Requirement already satisfied: grpcio<2.0,>=1.24.3 in /usr/local/lib/python3.10/dist-packages (from tensorflow) (1.62.1)\n",
            "Requirement already satisfied: tensorboard<2.16,>=2.15 in /usr/local/lib/python3.10/dist-packages (from tensorflow) (2.15.2)\n",
            "Requirement already satisfied: tensorflow-estimator<2.16,>=2.15.0 in /usr/local/lib/python3.10/dist-packages (from tensorflow) (2.15.0)\n",
            "Requirement already satisfied: keras<2.16,>=2.15.0 in /usr/local/lib/python3.10/dist-packages (from tensorflow) (2.15.0)\n",
            "Requirement already satisfied: wheel<1.0,>=0.23.0 in /usr/local/lib/python3.10/dist-packages (from astunparse>=1.6.0->tensorflow) (0.43.0)\n",
            "Requirement already satisfied: google-auth<3,>=1.6.3 in /usr/local/lib/python3.10/dist-packages (from tensorboard<2.16,>=2.15->tensorflow) (2.27.0)\n",
            "Requirement already satisfied: google-auth-oauthlib<2,>=0.5 in /usr/local/lib/python3.10/dist-packages (from tensorboard<2.16,>=2.15->tensorflow) (1.2.0)\n",
            "Requirement already satisfied: markdown>=2.6.8 in /usr/local/lib/python3.10/dist-packages (from tensorboard<2.16,>=2.15->tensorflow) (3.6)\n",
            "Requirement already satisfied: requests<3,>=2.21.0 in /usr/local/lib/python3.10/dist-packages (from tensorboard<2.16,>=2.15->tensorflow) (2.31.0)\n",
            "Requirement already satisfied: tensorboard-data-server<0.8.0,>=0.7.0 in /usr/local/lib/python3.10/dist-packages (from tensorboard<2.16,>=2.15->tensorflow) (0.7.2)\n",
            "Requirement already satisfied: werkzeug>=1.0.1 in /usr/local/lib/python3.10/dist-packages (from tensorboard<2.16,>=2.15->tensorflow) (3.0.1)\n",
            "Requirement already satisfied: cachetools<6.0,>=2.0.0 in /usr/local/lib/python3.10/dist-packages (from google-auth<3,>=1.6.3->tensorboard<2.16,>=2.15->tensorflow) (5.3.3)\n",
            "Requirement already satisfied: pyasn1-modules>=0.2.1 in /usr/local/lib/python3.10/dist-packages (from google-auth<3,>=1.6.3->tensorboard<2.16,>=2.15->tensorflow) (0.3.0)\n",
            "Requirement already satisfied: rsa<5,>=3.1.4 in /usr/local/lib/python3.10/dist-packages (from google-auth<3,>=1.6.3->tensorboard<2.16,>=2.15->tensorflow) (4.9)\n",
            "Requirement already satisfied: requests-oauthlib>=0.7.0 in /usr/local/lib/python3.10/dist-packages (from google-auth-oauthlib<2,>=0.5->tensorboard<2.16,>=2.15->tensorflow) (1.4.0)\n",
            "Requirement already satisfied: charset-normalizer<4,>=2 in /usr/local/lib/python3.10/dist-packages (from requests<3,>=2.21.0->tensorboard<2.16,>=2.15->tensorflow) (3.3.2)\n",
            "Requirement already satisfied: idna<4,>=2.5 in /usr/local/lib/python3.10/dist-packages (from requests<3,>=2.21.0->tensorboard<2.16,>=2.15->tensorflow) (3.6)\n",
            "Requirement already satisfied: urllib3<3,>=1.21.1 in /usr/local/lib/python3.10/dist-packages (from requests<3,>=2.21.0->tensorboard<2.16,>=2.15->tensorflow) (2.0.7)\n",
            "Requirement already satisfied: certifi>=2017.4.17 in /usr/local/lib/python3.10/dist-packages (from requests<3,>=2.21.0->tensorboard<2.16,>=2.15->tensorflow) (2024.2.2)\n",
            "Requirement already satisfied: MarkupSafe>=2.1.1 in /usr/local/lib/python3.10/dist-packages (from werkzeug>=1.0.1->tensorboard<2.16,>=2.15->tensorflow) (2.1.5)\n",
            "Requirement already satisfied: pyasn1<0.6.0,>=0.4.6 in /usr/local/lib/python3.10/dist-packages (from pyasn1-modules>=0.2.1->google-auth<3,>=1.6.3->tensorboard<2.16,>=2.15->tensorflow) (0.5.1)\n",
            "Requirement already satisfied: oauthlib>=3.0.0 in /usr/local/lib/python3.10/dist-packages (from requests-oauthlib>=0.7.0->google-auth-oauthlib<2,>=0.5->tensorboard<2.16,>=2.15->tensorflow) (3.2.2)\n"
          ]
        }
      ]
    },
    {
      "cell_type": "code",
      "execution_count": null,
      "metadata": {
        "id": "8jgJJR4AT6tK"
      },
      "outputs": [],
      "source": [
        "import requests;\n",
        "import time;\n",
        "from pathlib import Path;\n",
        "import os;\n",
        "import numpy;\n",
        "\n",
        "import tensorflow;\n",
        "from tensorflow.keras.models import Sequential;\n",
        "from tensorflow.keras.layers import Input, Conv2D, MaxPooling2D, Flatten, Dense;\n",
        "\n",
        "from PIL import Image;\n",
        "from numpy import asarray;\n",
        "\n",
        "import matplotlib.pyplot as plt;\n",
        "\n",
        "from tensorflow.keras.utils import plot_model;\n",
        "from tensorflow.keras.callbacks import EarlyStopping;\n",
        "\n",
        "from tensorflow.keras.regularizers import l2, l1_l2;\n",
        "\n",
        "from google.colab import drive;"
      ]
    },
    {
      "cell_type": "code",
      "source": [
        "# Check whether the GPU is exist\n",
        "tensorflow.config.list_physical_devices('GPU')"
      ],
      "metadata": {
        "colab": {
          "base_uri": "https://localhost:8080/"
        },
        "id": "VhBlKyE_UFrY",
        "outputId": "8a7e83b3-7cbf-451b-a539-66bbb7ae04ec"
      },
      "execution_count": null,
      "outputs": [
        {
          "output_type": "execute_result",
          "data": {
            "text/plain": [
              "[PhysicalDevice(name='/physical_device:GPU:0', device_type='GPU')]"
            ]
          },
          "metadata": {},
          "execution_count": 3
        }
      ]
    },
    {
      "cell_type": "code",
      "source": [
        "# Directory configuration\n",
        "drive.mount('/content/drive');\n",
        "\n",
        "base_path = \"/content/drive/MyDrive/Collab Dataset/Vegetable Images\";\n",
        "train_path = base_path + \"/train\";\n",
        "test_path = base_path + \"/test\";\n",
        "val_path = base_path + \"/validation\";"
      ],
      "metadata": {
        "colab": {
          "base_uri": "https://localhost:8080/"
        },
        "id": "l2ISIEzZUST6",
        "outputId": "50c64552-d87d-455d-d18e-bf909634484c"
      },
      "execution_count": null,
      "outputs": [
        {
          "output_type": "stream",
          "name": "stdout",
          "text": [
            "Mounted at /content/drive\n"
          ]
        }
      ]
    },
    {
      "cell_type": "markdown",
      "source": [],
      "metadata": {
        "id": "m7T2NzXLyGGE"
      }
    },
    {
      "cell_type": "markdown",
      "source": [
        "## Dataset Pre-Processing\n",
        "\n",
        "Regarding the nature of the data with structures as below:\n",
        "\n",
        "```\n",
        "Vegetable Images\n",
        "|- validation\n",
        "  |- label1\n",
        "    |- image1\n",
        "    |- imagen\n",
        "  |- labeln\n",
        "|- train\n",
        "|- test\n",
        "```\n",
        "\n",
        "Therefore, the pre-processing leveraging the folder structure is needed by applying algorithm below:\n",
        "\n",
        "```\n",
        "dataset = [feature_train = [], feature_test = [], feature_val = []]\n",
        "labels = [label_train = [], label_test = [], label_val = []]\n",
        "\n",
        "FOR idx, everything IN ENUMERATE([train, test, validation])\n",
        "  FOR folder IN everything\n",
        "    SET label = folder.name\n",
        "    \n",
        "    FOR file IN folder\n",
        "      APPEND dataset[idx], CONVERT_FILE_TO_ARRAY(file)\n",
        "      APPEND labels[idx], label\n",
        "```\n",
        "\n",
        "Basically:\n",
        "\n",
        "1. Convert the dataset from image format into float array format.\n",
        "2. Make enumeration from the label dataset since Tensorflow only can retrieve \"Tensor\". The rule below are applied:\n",
        "> 1: Brocolli\n",
        "> 2: Cabbage\n",
        "> 3: Cauliflower\n",
        "3. Save the converted dataset to the float array of `dataset_feature`.\n",
        "4. Set the folder name as its data label of the converted feature.\n",
        "5. Save the label to `dataset_label`.\n",
        "6. Perform OneHotEncoding to all dataset_label."
      ],
      "metadata": {
        "id": "sBHPNLVszxvz"
      }
    },
    {
      "cell_type": "code",
      "source": [
        "dataset_feature = [\n",
        "    [], # Train\n",
        "    [], # Test\n",
        "    []  # Val\n",
        "];\n",
        "\n",
        "dataset_label = [\n",
        "    [], # Train\n",
        "    [], # Test\n",
        "    []  # Val\n",
        "];\n",
        "\n",
        "for idx, e in enumerate([train_path, test_path, val_path]):\n",
        "  folders = Path(e).glob(\"*\");\n",
        "\n",
        "  # Navigate to folder\n",
        "  for folder in folders:\n",
        "    folder_name = os.path.basename(folder);\n",
        "    if(folder_name in [\"Broccoli\", \"Cabbage\", \"Cauliflower\"]):\n",
        "      label = 0;\n",
        "      match(folder_name):\n",
        "        case \"Broccoli\":\n",
        "          label = 0;\n",
        "\n",
        "        case \"Cabbage\":\n",
        "          label = 1;\n",
        "\n",
        "        case \"Cauliflower\":\n",
        "          label = 2;\n",
        "\n",
        "\n",
        "      # Get all files by navigating to folder\n",
        "      files = Path(folder).glob(\"*\");\n",
        "\n",
        "      # Mapping and convert features with the corresponding label\n",
        "      for file in files:\n",
        "        image = Image.open(Path(file));\n",
        "\n",
        "        # Convert feature from image to tensor\n",
        "        converted_tensor_from_image = asarray(image);\n",
        "        converted_tensor_from_image = converted_tensor_from_image / 255.0;\n",
        "\n",
        "        # Load the dataset to the list\n",
        "        dataset_feature[idx].append(converted_tensor_from_image);\n",
        "        dataset_label[idx].append(label);\n",
        "\n",
        "  # Perform One-Hot Encoding for the dataset_label\n",
        "  dataset_label[idx] = tensorflow.one_hot(dataset_label[idx], depth = 3);\n",
        "\n",
        "train_images = dataset_feature[0];\n",
        "test_images = dataset_feature[1];\n",
        "val_images = dataset_feature[2];\n",
        "train_labels = dataset_label[0];\n",
        "test_labels = dataset_label[1];\n",
        "val_labels = dataset_label[2];"
      ],
      "metadata": {
        "id": "CP4rLgllyFkt"
      },
      "execution_count": 5,
      "outputs": []
    },
    {
      "cell_type": "markdown",
      "source": [
        "## Data Exploration\n",
        "\n",
        "This exploration endavour taking feature data shape to make an exact model architecture"
      ],
      "metadata": {
        "id": "8xkprlT-ddXm"
      }
    },
    {
      "cell_type": "code",
      "source": [
        "print(\"Training dataset shape: \")\n",
        "\n",
        "print(\"Total dataset, width, height\")\n",
        "\n",
        "print(len(train_images), len(train_images[0]), len(train_images[0][0]))\n",
        "print(len(train_labels), len(train_labels[0]));\n",
        "\n",
        "print(len(test_images), len(test_images[0]), len(test_images[0][0]))\n",
        "print(len(test_labels), len(test_labels[0]));\n",
        "\n",
        "print(len(val_images), len(val_images[0]), len(val_images[0][0]))\n",
        "print(len(val_labels), len(val_labels[0]));\n",
        "\n",
        "train_images = numpy.array(train_images);\n",
        "test_images = numpy.array(test_images);\n",
        "val_images = numpy.array(val_images);\n",
        "train_labels = numpy.array(train_labels);\n",
        "test_labels = numpy.array(test_labels);\n",
        "val_labels = numpy.array(val_labels);"
      ],
      "metadata": {
        "id": "5FM0kcnnd-n6",
        "colab": {
          "base_uri": "https://localhost:8080/"
        },
        "outputId": "b0e42e27-e589-4b82-e05b-114215733c81"
      },
      "execution_count": 6,
      "outputs": [
        {
          "metadata": {
            "tags": null
          },
          "name": "stdout",
          "output_type": "stream",
          "text": [
            "Training dataset shape: \n",
            "Total dataset, width, height\n",
            "3000 224 224\n",
            "3000 3\n",
            "600 224 224\n",
            "600 3\n",
            "600 224 224\n",
            "600 3\n"
          ]
        }
      ]
    },
    {
      "cell_type": "markdown",
      "source": [
        "## Support Functions\n",
        "\n",
        "### 1. Telegram Reporter\n",
        "\n",
        "This notebook filled with helper to report whether training is started or stopped."
      ],
      "metadata": {
        "id": "XuiscaBcVo5w"
      }
    },
    {
      "cell_type": "code",
      "source": [
        "# telegram_reporter\n",
        "\"\"\"\n",
        "This function helps to send message to telegram private channel\n",
        "\"\"\"\n",
        "def telegram_reporter(message):\n",
        "    message = \"[\" + time.strftime(\"%Y-%m-%d %H:%M:%S\") +\"][CNN FROM SCRATCH] \" + message\n",
        "    requests.request(\n",
        "        method=\"POST\",\n",
        "        url=\"https://api.telegram.org/bot6307342709:AAEehfQrvZzQhk2hFlOW7C1JnE2hRQYLEgE/sendMessage?chat_id=-1001525528850&text=\" + message,\n",
        "        headers={},\n",
        "        data={}\n",
        "    );"
      ],
      "metadata": {
        "id": "QgQ-7PMKV4NV"
      },
      "execution_count": 7,
      "outputs": []
    },
    {
      "cell_type": "markdown",
      "source": [
        "## Model Architecture"
      ],
      "metadata": {
        "id": "sF-LoMzbdUdE"
      }
    },
    {
      "cell_type": "code",
      "source": [
        "class CNNModel:\n",
        "\n",
        "  def __init__(self):\n",
        "    self.input = Input(shape = (224, 224, 3));\n",
        "    self.conv1 = Conv2D(filters = 32, kernel_size = (5, 5), activation = \"relu\");\n",
        "    self.pool1 = MaxPooling2D((3, 3));\n",
        "\n",
        "    self.conv2 = Conv2D(filters = 64, kernel_size = (5, 5), activation = \"relu\");\n",
        "    self.pool2 = MaxPooling2D((3, 3));\n",
        "\n",
        "    self.fullycon = Flatten();\n",
        "    self.dense = Dense(64, activation = \"relu\", kernel_regularizer = l2(1e-4));\n",
        "\n",
        "    self.output = Dense(3, activation = \"softmax\");\n",
        "\n",
        "  # Early stopping after loss are not improved for some epochs\n",
        "  def _callback_early_stopping(self):\n",
        "      early_stopping_tolerance = 5;\n",
        "      return EarlyStopping(\n",
        "          monitor = \"val_loss\",\n",
        "          patience = early_stopping_tolerance,\n",
        "          restore_best_weights = True\n",
        "      );\n",
        "\n",
        "  def fitting(self):\n",
        "    model = Sequential();\n",
        "\n",
        "    model.add(self.input);\n",
        "    model.add(self.conv1);\n",
        "    model.add(self.pool1);\n",
        "    model.add(self.conv2);\n",
        "    model.add(self.pool2);\n",
        "    model.add(self.fullycon);\n",
        "    model.add(self.dense);\n",
        "    model.add(self.output);\n",
        "\n",
        "    model.compile(optimizer = \"sgd\", loss = \"categorical_crossentropy\", metrics = [\"accuracy\"]);\n",
        "    model.summary();\n",
        "\n",
        "    plot_model(model, to_file = (\"model_architecture.png\"), show_shapes = True);\n",
        "\n",
        "\n",
        "    history = model.fit(\n",
        "        train_images,\n",
        "        train_labels,\n",
        "        epochs = 25,\n",
        "        batch_size = 64,\n",
        "        validation_data = (val_images, val_labels),\n",
        "        callbacks = [self._callback_early_stopping()]\n",
        "    );\n",
        "\n",
        "    # Plot training history\n",
        "    plt.plot(history.history['loss'], label='Training Loss');\n",
        "    plt.plot(history.history['val_loss'], label='Validation Loss');\n",
        "    plt.xlabel('Epoch');\n",
        "    plt.ylabel('Loss');\n",
        "    plt.legend();\n",
        "    plt.show();\n",
        "\n",
        "    return model;"
      ],
      "metadata": {
        "id": "FHPa6uPH9RPn"
      },
      "execution_count": 11,
      "outputs": []
    },
    {
      "cell_type": "code",
      "source": [
        "telegram_reporter(\"Starting training\");\n",
        "\n",
        "cnn = CNNModel();\n",
        "model = cnn.fitting();\n",
        "\n",
        "test_loss, test_acc = model.evaluate(test_images, test_labels)\n",
        "print(f'Test accuracy: {test_acc}')\n",
        "\n",
        "telegram_reporter(\"Training done\");\n"
      ],
      "metadata": {
        "id": "RSI4aMvn-RSx",
        "colab": {
          "base_uri": "https://localhost:8080/",
          "height": 1000
        },
        "outputId": "7caf7e2d-287c-4e3f-ef4f-d0459b5c0282"
      },
      "execution_count": 12,
      "outputs": [
        {
          "output_type": "stream",
          "name": "stdout",
          "text": [
            "Model: \"sequential_2\"\n",
            "_________________________________________________________________\n",
            " Layer (type)                Output Shape              Param #   \n",
            "=================================================================\n",
            " conv2d_4 (Conv2D)           (None, 220, 220, 32)      2432      \n",
            "                                                                 \n",
            " max_pooling2d_4 (MaxPoolin  (None, 73, 73, 32)        0         \n",
            " g2D)                                                            \n",
            "                                                                 \n",
            " conv2d_5 (Conv2D)           (None, 69, 69, 64)        51264     \n",
            "                                                                 \n",
            " max_pooling2d_5 (MaxPoolin  (None, 23, 23, 64)        0         \n",
            " g2D)                                                            \n",
            "                                                                 \n",
            " flatten_2 (Flatten)         (None, 33856)             0         \n",
            "                                                                 \n",
            " dense_4 (Dense)             (None, 64)                2166848   \n",
            "                                                                 \n",
            " dense_5 (Dense)             (None, 3)                 195       \n",
            "                                                                 \n",
            "=================================================================\n",
            "Total params: 2220739 (8.47 MB)\n",
            "Trainable params: 2220739 (8.47 MB)\n",
            "Non-trainable params: 0 (0.00 Byte)\n",
            "_________________________________________________________________\n",
            "Epoch 1/25\n",
            "47/47 [==============================] - 3s 42ms/step - loss: 1.0624 - accuracy: 0.4640 - val_loss: 0.9726 - val_accuracy: 0.7067\n",
            "Epoch 2/25\n",
            "47/47 [==============================] - 1s 24ms/step - loss: 0.9340 - accuracy: 0.5820 - val_loss: 0.8317 - val_accuracy: 0.5900\n",
            "Epoch 3/25\n",
            "47/47 [==============================] - 1s 24ms/step - loss: 0.8245 - accuracy: 0.6530 - val_loss: 1.2856 - val_accuracy: 0.3467\n",
            "Epoch 4/25\n",
            "47/47 [==============================] - 1s 24ms/step - loss: 0.7510 - accuracy: 0.6950 - val_loss: 0.6886 - val_accuracy: 0.7183\n",
            "Epoch 5/25\n",
            "47/47 [==============================] - 1s 24ms/step - loss: 0.6317 - accuracy: 0.7357 - val_loss: 0.5297 - val_accuracy: 0.8267\n",
            "Epoch 6/25\n",
            "47/47 [==============================] - 1s 24ms/step - loss: 0.5905 - accuracy: 0.7637 - val_loss: 0.5818 - val_accuracy: 0.8183\n",
            "Epoch 7/25\n",
            "47/47 [==============================] - 1s 24ms/step - loss: 0.5438 - accuracy: 0.7877 - val_loss: 0.4603 - val_accuracy: 0.8500\n",
            "Epoch 8/25\n",
            "47/47 [==============================] - 1s 24ms/step - loss: 0.5157 - accuracy: 0.8163 - val_loss: 0.5347 - val_accuracy: 0.8000\n",
            "Epoch 9/25\n",
            "47/47 [==============================] - 1s 25ms/step - loss: 0.4283 - accuracy: 0.8463 - val_loss: 0.2709 - val_accuracy: 0.9100\n",
            "Epoch 10/25\n",
            "47/47 [==============================] - 1s 24ms/step - loss: 0.4493 - accuracy: 0.8343 - val_loss: 0.3757 - val_accuracy: 0.8767\n",
            "Epoch 11/25\n",
            "47/47 [==============================] - 1s 24ms/step - loss: 0.3437 - accuracy: 0.8770 - val_loss: 0.2600 - val_accuracy: 0.9200\n",
            "Epoch 12/25\n",
            "47/47 [==============================] - 1s 25ms/step - loss: 0.3112 - accuracy: 0.8943 - val_loss: 0.2177 - val_accuracy: 0.9283\n",
            "Epoch 13/25\n",
            "47/47 [==============================] - 1s 24ms/step - loss: 0.3646 - accuracy: 0.8703 - val_loss: 0.2399 - val_accuracy: 0.9183\n",
            "Epoch 14/25\n",
            "47/47 [==============================] - 1s 24ms/step - loss: 0.2653 - accuracy: 0.9023 - val_loss: 0.2825 - val_accuracy: 0.8983\n",
            "Epoch 15/25\n",
            "47/47 [==============================] - 1s 25ms/step - loss: 0.2539 - accuracy: 0.9097 - val_loss: 0.1820 - val_accuracy: 0.9417\n",
            "Epoch 16/25\n",
            "47/47 [==============================] - 1s 25ms/step - loss: 0.2383 - accuracy: 0.9190 - val_loss: 0.1756 - val_accuracy: 0.9450\n",
            "Epoch 17/25\n",
            "47/47 [==============================] - 1s 25ms/step - loss: 0.1843 - accuracy: 0.9387 - val_loss: 0.1854 - val_accuracy: 0.9367\n",
            "Epoch 18/25\n",
            "47/47 [==============================] - 1s 24ms/step - loss: 0.3148 - accuracy: 0.8950 - val_loss: 0.2590 - val_accuracy: 0.9250\n",
            "Epoch 19/25\n",
            "47/47 [==============================] - 1s 24ms/step - loss: 0.1957 - accuracy: 0.9403 - val_loss: 0.2165 - val_accuracy: 0.9300\n",
            "Epoch 20/25\n",
            "47/47 [==============================] - 1s 24ms/step - loss: 0.3623 - accuracy: 0.8810 - val_loss: 0.2612 - val_accuracy: 0.9133\n",
            "Epoch 21/25\n",
            "47/47 [==============================] - 1s 24ms/step - loss: 0.1722 - accuracy: 0.9453 - val_loss: 0.1910 - val_accuracy: 0.9300\n"
          ]
        },
        {
          "output_type": "display_data",
          "data": {
            "text/plain": [
              "<Figure size 640x480 with 1 Axes>"
            ],
            "image/png": "[encoded data removed]"
          },
          "metadata": {}
        },
        {
          "output_type": "stream",
          "name": "stdout",
          "text": [
            "19/19 [==============================] - 0s 9ms/step - loss: 0.1886 - accuracy: 0.9333\n",
            "Test accuracy: 0.9333333373069763\n"
          ]
        }
      ]
    }
  ]
}